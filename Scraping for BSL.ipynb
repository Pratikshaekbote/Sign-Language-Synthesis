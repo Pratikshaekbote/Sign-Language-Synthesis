{
 "cells": [
  {
   "cell_type": "code",
   "execution_count": 2,
   "id": "f86ce0b9",
   "metadata": {},
   "outputs": [],
   "source": [
    "import requests\n",
    "from bs4 import BeautifulSoup\n",
    "\n",
    "url = \"https://www.sign-lang.uni-hamburg.de/dicta-sign/portal/concepts/concepts_eng.html\""
   ]
  },
  {
   "cell_type": "code",
   "execution_count": 3,
   "id": "507e7b13",
   "metadata": {},
   "outputs": [],
   "source": [
    "r = requests.get(url)\n",
    "htmlContent = r.content\n",
    "\n",
    "soup = BeautifulSoup(htmlContent, 'lxml')"
   ]
  },
  {
   "cell_type": "code",
   "execution_count": 4,
   "id": "e1140d9d",
   "metadata": {},
   "outputs": [],
   "source": [
    "links = soup.find_all('a')\n",
    "myList = list()\n",
    "\n",
    "for link in links:\n",
    "    txt = \"https://www.sign-lang.uni-hamburg.de/dicta-sign/portal/concepts/\"\n",
    "    myList.append(txt + link.get('href'))"
   ]
  },
  {
   "cell_type": "code",
   "execution_count": null,
   "id": "2793e07c",
   "metadata": {},
   "outputs": [],
   "source": []
  }
 ],
 "metadata": {
  "kernelspec": {
   "display_name": "Python 3.8.8 ('base')",
   "language": "python",
   "name": "python3"
  },
  "language_info": {
   "codemirror_mode": {
    "name": "ipython",
    "version": 3
   },
   "file_extension": ".py",
   "mimetype": "text/x-python",
   "name": "python",
   "nbconvert_exporter": "python",
   "pygments_lexer": "ipython3",
   "version": "3.8.8"
  },
  "vscode": {
   "interpreter": {
    "hash": "ad2bdc8ecc057115af97d19610ffacc2b4e99fae6737bb82f5d7fb13d2f2c186"
   }
  }
 },
 "nbformat": 4,
 "nbformat_minor": 5
}
